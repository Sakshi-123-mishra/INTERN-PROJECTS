{
 "cells": [
  {
   "cell_type": "code",
   "execution_count": 1,
   "id": "0a9d6c42-5fb4-477d-8f78-452184e6a94c",
   "metadata": {},
   "outputs": [],
   "source": [
    "from tkinter import*\n",
    "import random\n",
    "import string\n",
    "root = Tk()\n",
    "root.geometry(\"400x200\")\n",
    "\n",
    "passstr = StringVar()\n",
    "pwd_len = IntVar()\n",
    "\n",
    "#function to generate the password\n",
    "\n",
    "def get_pass():\n",
    "    pass1 = string.ascii_letters + string.digits + string.punctuation\n",
    "    password=\"\"\n",
    "\n",
    "    for x in range(pwd_len.get()):\n",
    "        password=password+random.choice(pass1)\n",
    "        passstr.set(password)\n",
    "\n",
    "#tkinter command to generate the GUI:\n",
    "\n",
    "Label(root,text=\"Password Generator\",font=\"calibri 18 bold\").pack()\n",
    "Label(root,text=\"Enter length of password\").pack(pady=9)\n",
    "Entry(root,textvariable=pwd_len).pack(pady=2)\n",
    "\n",
    "Button(root,text=\"Generate password\",command=get_pass).pack(pady=15)\n",
    "Entry(root,textvariable=passstr).pack(pady=2)\n",
    "\n",
    "root.mainloop()"
   ]
  }
 ],
 "metadata": {
  "kernelspec": {
   "display_name": "Python 3 (ipykernel)",
   "language": "python",
   "name": "python3"
  },
  "language_info": {
   "codemirror_mode": {
    "name": "ipython",
    "version": 3
   },
   "file_extension": ".py",
   "mimetype": "text/x-python",
   "name": "python",
   "nbconvert_exporter": "python",
   "pygments_lexer": "ipython3",
   "version": "3.12.0"
  }
 },
 "nbformat": 4,
 "nbformat_minor": 5
}
